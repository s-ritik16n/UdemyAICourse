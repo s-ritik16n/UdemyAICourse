{
 "cells": [
  {
   "cell_type": "code",
   "execution_count": null,
   "id": "2942d911-b19f-411b-9a1e-4fbe8339f3c1",
   "metadata": {},
   "outputs": [],
   "source": []
  }
 ],
 "metadata": {
  "kernelspec": {
   "display_name": "course-01",
   "language": "python",
   "name": "course-01"
  },
  "language_info": {
   "codemirror_mode": {
    "name": "ipython",
    "version": 3
   },
   "file_extension": ".py",
   "mimetype": "text/x-python",
   "name": "python",
   "nbconvert_exporter": "python",
   "pygments_lexer": "ipython3",
   "version": "3.11.13"
  }
 },
 "nbformat": 4,
 "nbformat_minor": 5
}
