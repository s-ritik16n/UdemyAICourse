{
 "cells": [
  {
   "cell_type": "markdown",
   "id": "617f828d-9b5b-460a-8e37-fe79cdfcdea1",
   "metadata": {},
   "source": [
    "# <u>Text Tagging</u>"
   ]
  },
  {
   "cell_type": "markdown",
   "id": "2a9f1dc2-d881-49bf-8f25-8f637a73680f",
   "metadata": {},
   "source": [
    "## POS (Part Of Speech Tagging)"
   ]
  },
  {
   "cell_type": "code",
   "execution_count": null,
   "id": "748c784b-8c99-4d94-99e4-626971c6c492",
   "metadata": {},
   "outputs": [],
   "source": []
  }
 ],
 "metadata": {
  "kernelspec": {
   "display_name": "nlp_course_env",
   "language": "python",
   "name": "nlp_course_env"
  },
  "language_info": {
   "codemirror_mode": {
    "name": "ipython",
    "version": 3
   },
   "file_extension": ".py",
   "mimetype": "text/x-python",
   "name": "python",
   "nbconvert_exporter": "python",
   "pygments_lexer": "ipython3",
   "version": "3.11.13"
  }
 },
 "nbformat": 4,
 "nbformat_minor": 5
}
