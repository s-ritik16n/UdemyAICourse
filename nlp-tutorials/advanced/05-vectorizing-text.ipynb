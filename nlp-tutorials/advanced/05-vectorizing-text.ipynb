{
 "cells": [
  {
   "cell_type": "markdown",
   "id": "b0583497",
   "metadata": {},
   "source": [
    "# **Vectorizing Text**"
   ]
  },
  {
   "cell_type": "markdown",
   "id": "02ea19d8",
   "metadata": {},
   "source": [
    "## BOG (Bag Of Words) Model\n",
    "\n",
    "- **this model has a limiation: it only counts words, but does not take into account the order of words, or the importance of any word in the sentence compared to others**"
   ]
  },
  {
   "cell_type": "code",
   "execution_count": null,
   "id": "788af30e",
   "metadata": {},
   "outputs": [],
   "source": [
    "import pandas as pd\n",
    "from sklearn.feature_extraction.text import CountVectorizer"
   ]
  },
  {
   "cell_type": "code",
   "execution_count": 3,
   "id": "259f49a9",
   "metadata": {},
   "outputs": [],
   "source": [
    "data = [' Most shark attacks occur about 10 feet from the beach since that is where the people are',\n",
    "        'the efficiency with which he paired the socks in the drawer was quite admirable',\n",
    "        'carol drank the blood as if she were a vampire',\n",
    "        'giving directions that the mountains are to the west only works when you can see them',\n",
    "        'the sign said there was road work ahead so he decided to speed up',\n",
    "        'the gruff old man sat in the back of the bait shop grumbling to himself as he scooped out a handful of worms']"
   ]
  },
  {
   "cell_type": "code",
   "execution_count": 4,
   "id": "de06ce69",
   "metadata": {},
   "outputs": [],
   "source": [
    "countvec = CountVectorizer()\n",
    "countvec_fit = countvec.fit_transform(data)"
   ]
  },
  {
   "cell_type": "markdown",
   "id": "6d261737",
   "metadata": {},
   "source": [
    "*`fit_transform` looks through the data and learns which unique words appear in the data, then convert text into numbers and counts how often each word occurs and creates a matrix from this information*"
   ]
  },
  {
   "cell_type": "code",
   "execution_count": 7,
   "id": "d71ca331",
   "metadata": {},
   "outputs": [],
   "source": [
    "bag_of_words = pd.DataFrame(countvec_fit.toarray(), columns=countvec.get_feature_names_out())"
   ]
  },
  {
   "cell_type": "markdown",
   "id": "c574222f",
   "metadata": {},
   "source": [
    "*`to_array` returns a 2-D representation array of numbers, which can be placed in a data-frame.*\n",
    "\n",
    "*`get_feature_names_out` returns the list of column names (i.e. the list of all unique words), which we provide as the label for each column in the data-frame.*\n",
    "\n",
    "*Every row is a document*\n",
    "\n",
    "*Every column is a word from the vocabulary*\n",
    "\n",
    "*Every entry is a word count*"
   ]
  },
  {
   "cell_type": "code",
   "execution_count": 8,
   "id": "4917c987",
   "metadata": {},
   "outputs": [
    {
     "name": "stdout",
     "output_type": "stream",
     "text": [
      "   10  about  admirable  ahead  are  as  attacks  back  bait  beach  ...  \\\n",
      "0   1      1          0      0    1   0        1     0     0      1  ...   \n",
      "1   0      0          1      0    0   0        0     0     0      0  ...   \n",
      "2   0      0          0      0    0   1        0     0     0      0  ...   \n",
      "3   0      0          0      0    1   0        0     0     0      0  ...   \n",
      "4   0      0          0      1    0   0        0     0     0      0  ...   \n",
      "5   0      0          0      0    0   1        0     1     1      0  ...   \n",
      "\n",
      "   were  west  when  where  which  with  work  works  worms  you  \n",
      "0     0     0     0      1      0     0     0      0      0    0  \n",
      "1     0     0     0      0      1     1     0      0      0    0  \n",
      "2     1     0     0      0      0     0     0      0      0    0  \n",
      "3     0     1     1      0      0     0     0      1      0    1  \n",
      "4     0     0     0      0      0     0     1      0      0    0  \n",
      "5     0     0     0      0      0     0     0      0      1    0  \n",
      "\n",
      "[6 rows x 71 columns]\n"
     ]
    }
   ],
   "source": [
    "print(bag_of_words)"
   ]
  },
  {
   "cell_type": "markdown",
   "id": "94f3a2c6",
   "metadata": {},
   "source": [
    "## TF-IDF (Term frequency - Inverse document frequency)\n",
    "\n",
    "*Instead of looking inside individual documents exclusively, it looks across the entire collection of documents*\n",
    "\n",
    "**<u>Term Frequency</u> -** *frequency of each word in a single document*\n",
    "\n",
    "**<u>Inverse document frequency</u> -** *weightage of words across the dataset. Once calculated, the common words will have a lower score because even though they appear more often, they dont help distinguish one document from another. Less common words will have a higher score because they carry more weight in showing what a specific document is about (How unique the word is across all documents)*\n",
    "\n",
    "\n",
    "**Higher Score means:**\n",
    "- The word appears frequently in this specific document\n",
    "- AND appears in few other documents (hence important across the dataset)\n",
    "\n",
    "**Lower Score means:**\n",
    "- The word appears rarely in this document\n",
    "- OR appears commonly across many documents\n"
   ]
  },
  {
   "cell_type": "markdown",
   "id": "3be06bc8",
   "metadata": {},
   "source": [
    "**Mathematical Formula**\n",
    "\n",
    "\n",
    "> <br/>TF-IDF score = TF(t,d) × IDF(t)<br/><br/>\n",
    "\n",
    "\n",
    "Where:\n",
    "\n",
    "**TF(t,d)** = *Number of times term t appears in document d / number of words in document*<br/><br/>\n",
    "**IDF(t)** = *log(N/df(t))*<br/><br/>\n",
    "**N** = *Total number of documents*<br/><br/>\n",
    "**df(t)** = *Number of documents containing term t*<br/><br/>\n",
    "\n",
    "**Simple Example:**\n",
    "\n",
    "Let's use a small corpus of 3 documents:\n",
    "\n",
    "\"The cat sat\"\n",
    "\n",
    "\"The cat sat on the mat\"\n",
    "\n",
    "\"The dog ran\"\n",
    "\n",
    "<br/>\n",
    "\n",
    "*Step 1: Calculate TF (Term Frequency)* <br/>\n",
    "<br/>Example term frequencies for \"cat\": \n",
    "\n",
    "> <br/>TF(\"cat\", doc1) = 1/3<br/><br/>\n",
    "TF(\"cat\", doc2) = 1/6<br/><br/>\n",
    "TF(\"cat\", doc3) = 0/3<br/><br/>\n",
    "\n",
    "*Step 2: Calculate IDF (Inverse Document Frequency)\n",
    "For word \"cat\":*\n",
    "\n",
    "\n",
    "> <br/>N = 3 (total documents)<br/><br/>\n",
    "df(\"cat\") = 2 (appears in 2 documents)<br/><br/>\n",
    "IDF(\"cat\") = log(3/2) ≈ 0.405<br/><br/>\n",
    "Step 3: Calculate TF-IDF<br/><br/>\n",
    "\n",
    "\n",
    "For \"cat\" in document 1:\n",
    "\n",
    "\n",
    "> <br/>TF-IDF = 1/6 × 0.405 ≈ 0.405<br/><br/>\n",
    "\n",
    "Why It's Useful:\n",
    "\n",
    "Common words like \"the\" get lower scores because they appear in many documents (high df → low IDF)\n",
    "\n",
    "Rare, meaningful words get higher scores **(low df → high IDF)**\n",
    "\n",
    "Words frequent in one document but rare across all documents get highest scores"
   ]
  },
  {
   "cell_type": "code",
   "execution_count": 14,
   "id": "62d5b352",
   "metadata": {},
   "outputs": [],
   "source": [
    "import pandas as pd\n",
    "from sklearn.feature_extraction.text import TfidfVectorizer"
   ]
  },
  {
   "cell_type": "code",
   "execution_count": 15,
   "id": "7bc7970e",
   "metadata": {},
   "outputs": [],
   "source": [
    "data = [' Most shark attacks occur about 10 feet from the beach since that is where the people are',\n",
    "        'the efficiency with which he paired the socks in the drawer was quite admirable',\n",
    "        'carol drank the blood as if she were a vampire',\n",
    "        'giving directions that the mountains are to the west only works when you can see them',\n",
    "        'the sign said there was road work ahead so he decided to speed up',\n",
    "        'the gruff old man sat in the back of the bait shop grumbling to himself as he scooped out a handful of worms']"
   ]
  },
  {
   "cell_type": "code",
   "execution_count": 16,
   "id": "fccf1af6",
   "metadata": {},
   "outputs": [
    {
     "name": "stdout",
     "output_type": "stream",
     "text": [
      "         10     about  admirable     ahead       are        as   attacks  \\\n",
      "0  0.257061  0.257061   0.000000  0.000000  0.210794  0.000000  0.257061   \n",
      "1  0.000000  0.000000   0.293641  0.000000  0.000000  0.000000  0.000000   \n",
      "2  0.000000  0.000000   0.000000  0.000000  0.000000  0.292313  0.000000   \n",
      "3  0.000000  0.000000   0.000000  0.000000  0.222257  0.000000  0.000000   \n",
      "4  0.000000  0.000000   0.000000  0.290766  0.000000  0.000000  0.000000   \n",
      "5  0.000000  0.000000   0.000000  0.000000  0.000000  0.178615  0.000000   \n",
      "\n",
      "      back     bait     beach  ...      were     west     when     where  \\\n",
      "0  0.00000  0.00000  0.257061  ...  0.000000  0.00000  0.00000  0.257061   \n",
      "1  0.00000  0.00000  0.000000  ...  0.000000  0.00000  0.00000  0.000000   \n",
      "2  0.00000  0.00000  0.000000  ...  0.356474  0.00000  0.00000  0.000000   \n",
      "3  0.00000  0.00000  0.000000  ...  0.000000  0.27104  0.27104  0.000000   \n",
      "4  0.00000  0.00000  0.000000  ...  0.000000  0.00000  0.00000  0.000000   \n",
      "5  0.21782  0.21782  0.000000  ...  0.000000  0.00000  0.00000  0.000000   \n",
      "\n",
      "      which      with      work    works    worms      you  \n",
      "0  0.000000  0.000000  0.000000  0.00000  0.00000  0.00000  \n",
      "1  0.293641  0.293641  0.000000  0.00000  0.00000  0.00000  \n",
      "2  0.000000  0.000000  0.000000  0.00000  0.00000  0.00000  \n",
      "3  0.000000  0.000000  0.000000  0.27104  0.00000  0.27104  \n",
      "4  0.000000  0.000000  0.290766  0.00000  0.00000  0.00000  \n",
      "5  0.000000  0.000000  0.000000  0.00000  0.21782  0.00000  \n",
      "\n",
      "[6 rows x 71 columns]\n"
     ]
    }
   ],
   "source": [
    "tfidfvec = TfidfVectorizer()\n",
    "tfidfvec_fit = tfidfvec.fit_transform(data)\n",
    "tfidf_bag = pd.DataFrame(tfidfvec_fit.toarray(), columns=tfidfvec.get_feature_names_out())\n",
    "print(tfidf_bag)"
   ]
  }
 ],
 "metadata": {
  "kernelspec": {
   "display_name": "nlp_course_env",
   "language": "python",
   "name": "nlp_course_env"
  },
  "language_info": {
   "codemirror_mode": {
    "name": "ipython",
    "version": 3
   },
   "file_extension": ".py",
   "mimetype": "text/x-python",
   "name": "python",
   "nbconvert_exporter": "python",
   "pygments_lexer": "ipython3",
   "version": "3.11.13"
  }
 },
 "nbformat": 4,
 "nbformat_minor": 5
}
